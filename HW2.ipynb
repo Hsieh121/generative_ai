{
  "nbformat": 4,
  "nbformat_minor": 0,
  "metadata": {
    "colab": {
      "provenance": [],
      "gpuType": "T4",
      "authorship_tag": "ABX9TyNOWSEan/8DzM2W93QrtnMO",
      "include_colab_link": true
    },
    "kernelspec": {
      "name": "python3",
      "display_name": "Python 3"
    },
    "language_info": {
      "name": "python"
    },
    "accelerator": "GPU",
    "widgets": {
      "application/vnd.jupyter.widget-state+json": {
        "0def920924c64cd3abc5ebaac077f208": {
          "model_module": "@jupyter-widgets/controls",
          "model_name": "VBoxModel",
          "model_module_version": "1.5.0",
          "state": {
            "_dom_classes": [
              "widget-interact"
            ],
            "_model_module": "@jupyter-widgets/controls",
            "_model_module_version": "1.5.0",
            "_model_name": "VBoxModel",
            "_view_count": null,
            "_view_module": "@jupyter-widgets/controls",
            "_view_module_version": "1.5.0",
            "_view_name": "VBoxView",
            "box_style": "",
            "children": [
              "IPY_MODEL_9919b1b9ba9c4e4fad04f04d62ae90f4",
              "IPY_MODEL_0189a55a8ca54d7389fc46050d0b633e",
              "IPY_MODEL_40a3d7a229bd42b5838d7bd60d197e21"
            ],
            "layout": "IPY_MODEL_6feb0cdcb18a4cb8a241f0850b0080a0"
          }
        },
        "9919b1b9ba9c4e4fad04f04d62ae90f4": {
          "model_module": "@jupyter-widgets/controls",
          "model_name": "IntSliderModel",
          "model_module_version": "1.5.0",
          "state": {
            "_dom_classes": [],
            "_model_module": "@jupyter-widgets/controls",
            "_model_module_version": "1.5.0",
            "_model_name": "IntSliderModel",
            "_view_count": null,
            "_view_module": "@jupyter-widgets/controls",
            "_view_module_version": "1.5.0",
            "_view_name": "IntSliderView",
            "continuous_update": true,
            "description": "測試編號",
            "description_tooltip": null,
            "disabled": false,
            "layout": "IPY_MODEL_4c79e6868ee641eea0bde520c210b4b4",
            "max": 9999,
            "min": 0,
            "orientation": "horizontal",
            "readout": true,
            "readout_format": "d",
            "step": 1,
            "style": "IPY_MODEL_ef42e856746646feb7741b0e16c7138f",
            "value": 4999
          }
        },
        "0189a55a8ca54d7389fc46050d0b633e": {
          "model_module": "@jupyter-widgets/controls",
          "model_name": "ButtonModel",
          "model_module_version": "1.5.0",
          "state": {
            "_dom_classes": [],
            "_model_module": "@jupyter-widgets/controls",
            "_model_module_version": "1.5.0",
            "_model_name": "ButtonModel",
            "_view_count": null,
            "_view_module": "@jupyter-widgets/controls",
            "_view_module_version": "1.5.0",
            "_view_name": "ButtonView",
            "button_style": "",
            "description": "Run Interact",
            "disabled": false,
            "icon": "",
            "layout": "IPY_MODEL_8f4d00c53d674acc99d8e2f2d2239a65",
            "style": "IPY_MODEL_479ffa704f3243748201e6315ea92485",
            "tooltip": ""
          }
        },
        "40a3d7a229bd42b5838d7bd60d197e21": {
          "model_module": "@jupyter-widgets/output",
          "model_name": "OutputModel",
          "model_module_version": "1.0.0",
          "state": {
            "_dom_classes": [],
            "_model_module": "@jupyter-widgets/output",
            "_model_module_version": "1.0.0",
            "_model_name": "OutputModel",
            "_view_count": null,
            "_view_module": "@jupyter-widgets/output",
            "_view_module_version": "1.0.0",
            "_view_name": "OutputView",
            "layout": "IPY_MODEL_4cefdeb2f168426181182304735f77fd",
            "msg_id": "",
            "outputs": [
              {
                "output_type": "stream",
                "name": "stdout",
                "text": [
                  "神經網路判斷為: 0\n"
                ]
              },
              {
                "output_type": "display_data",
                "data": {
                  "text/plain": "<Figure size 640x480 with 1 Axes>",
                  "image/png": "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\n"
                },
                "metadata": {}
              }
            ]
          }
        },
        "6feb0cdcb18a4cb8a241f0850b0080a0": {
          "model_module": "@jupyter-widgets/base",
          "model_name": "LayoutModel",
          "model_module_version": "1.2.0",
          "state": {
            "_model_module": "@jupyter-widgets/base",
            "_model_module_version": "1.2.0",
            "_model_name": "LayoutModel",
            "_view_count": null,
            "_view_module": "@jupyter-widgets/base",
            "_view_module_version": "1.2.0",
            "_view_name": "LayoutView",
            "align_content": null,
            "align_items": null,
            "align_self": null,
            "border": null,
            "bottom": null,
            "display": null,
            "flex": null,
            "flex_flow": null,
            "grid_area": null,
            "grid_auto_columns": null,
            "grid_auto_flow": null,
            "grid_auto_rows": null,
            "grid_column": null,
            "grid_gap": null,
            "grid_row": null,
            "grid_template_areas": null,
            "grid_template_columns": null,
            "grid_template_rows": null,
            "height": null,
            "justify_content": null,
            "justify_items": null,
            "left": null,
            "margin": null,
            "max_height": null,
            "max_width": null,
            "min_height": null,
            "min_width": null,
            "object_fit": null,
            "object_position": null,
            "order": null,
            "overflow": null,
            "overflow_x": null,
            "overflow_y": null,
            "padding": null,
            "right": null,
            "top": null,
            "visibility": null,
            "width": null
          }
        },
        "4c79e6868ee641eea0bde520c210b4b4": {
          "model_module": "@jupyter-widgets/base",
          "model_name": "LayoutModel",
          "model_module_version": "1.2.0",
          "state": {
            "_model_module": "@jupyter-widgets/base",
            "_model_module_version": "1.2.0",
            "_model_name": "LayoutModel",
            "_view_count": null,
            "_view_module": "@jupyter-widgets/base",
            "_view_module_version": "1.2.0",
            "_view_name": "LayoutView",
            "align_content": null,
            "align_items": null,
            "align_self": null,
            "border": null,
            "bottom": null,
            "display": null,
            "flex": null,
            "flex_flow": null,
            "grid_area": null,
            "grid_auto_columns": null,
            "grid_auto_flow": null,
            "grid_auto_rows": null,
            "grid_column": null,
            "grid_gap": null,
            "grid_row": null,
            "grid_template_areas": null,
            "grid_template_columns": null,
            "grid_template_rows": null,
            "height": null,
            "justify_content": null,
            "justify_items": null,
            "left": null,
            "margin": null,
            "max_height": null,
            "max_width": null,
            "min_height": null,
            "min_width": null,
            "object_fit": null,
            "object_position": null,
            "order": null,
            "overflow": null,
            "overflow_x": null,
            "overflow_y": null,
            "padding": null,
            "right": null,
            "top": null,
            "visibility": null,
            "width": null
          }
        },
        "ef42e856746646feb7741b0e16c7138f": {
          "model_module": "@jupyter-widgets/controls",
          "model_name": "SliderStyleModel",
          "model_module_version": "1.5.0",
          "state": {
            "_model_module": "@jupyter-widgets/controls",
            "_model_module_version": "1.5.0",
            "_model_name": "SliderStyleModel",
            "_view_count": null,
            "_view_module": "@jupyter-widgets/base",
            "_view_module_version": "1.2.0",
            "_view_name": "StyleView",
            "description_width": "",
            "handle_color": null
          }
        },
        "8f4d00c53d674acc99d8e2f2d2239a65": {
          "model_module": "@jupyter-widgets/base",
          "model_name": "LayoutModel",
          "model_module_version": "1.2.0",
          "state": {
            "_model_module": "@jupyter-widgets/base",
            "_model_module_version": "1.2.0",
            "_model_name": "LayoutModel",
            "_view_count": null,
            "_view_module": "@jupyter-widgets/base",
            "_view_module_version": "1.2.0",
            "_view_name": "LayoutView",
            "align_content": null,
            "align_items": null,
            "align_self": null,
            "border": null,
            "bottom": null,
            "display": null,
            "flex": null,
            "flex_flow": null,
            "grid_area": null,
            "grid_auto_columns": null,
            "grid_auto_flow": null,
            "grid_auto_rows": null,
            "grid_column": null,
            "grid_gap": null,
            "grid_row": null,
            "grid_template_areas": null,
            "grid_template_columns": null,
            "grid_template_rows": null,
            "height": null,
            "justify_content": null,
            "justify_items": null,
            "left": null,
            "margin": null,
            "max_height": null,
            "max_width": null,
            "min_height": null,
            "min_width": null,
            "object_fit": null,
            "object_position": null,
            "order": null,
            "overflow": null,
            "overflow_x": null,
            "overflow_y": null,
            "padding": null,
            "right": null,
            "top": null,
            "visibility": null,
            "width": null
          }
        },
        "479ffa704f3243748201e6315ea92485": {
          "model_module": "@jupyter-widgets/controls",
          "model_name": "ButtonStyleModel",
          "model_module_version": "1.5.0",
          "state": {
            "_model_module": "@jupyter-widgets/controls",
            "_model_module_version": "1.5.0",
            "_model_name": "ButtonStyleModel",
            "_view_count": null,
            "_view_module": "@jupyter-widgets/base",
            "_view_module_version": "1.2.0",
            "_view_name": "StyleView",
            "button_color": null,
            "font_weight": ""
          }
        },
        "4cefdeb2f168426181182304735f77fd": {
          "model_module": "@jupyter-widgets/base",
          "model_name": "LayoutModel",
          "model_module_version": "1.2.0",
          "state": {
            "_model_module": "@jupyter-widgets/base",
            "_model_module_version": "1.2.0",
            "_model_name": "LayoutModel",
            "_view_count": null,
            "_view_module": "@jupyter-widgets/base",
            "_view_module_version": "1.2.0",
            "_view_name": "LayoutView",
            "align_content": null,
            "align_items": null,
            "align_self": null,
            "border": null,
            "bottom": null,
            "display": null,
            "flex": null,
            "flex_flow": null,
            "grid_area": null,
            "grid_auto_columns": null,
            "grid_auto_flow": null,
            "grid_auto_rows": null,
            "grid_column": null,
            "grid_gap": null,
            "grid_row": null,
            "grid_template_areas": null,
            "grid_template_columns": null,
            "grid_template_rows": null,
            "height": null,
            "justify_content": null,
            "justify_items": null,
            "left": null,
            "margin": null,
            "max_height": null,
            "max_width": null,
            "min_height": null,
            "min_width": null,
            "object_fit": null,
            "object_position": null,
            "order": null,
            "overflow": null,
            "overflow_x": null,
            "overflow_y": null,
            "padding": null,
            "right": null,
            "top": null,
            "visibility": null,
            "width": null
          }
        }
      }
    }
  },
  "cells": [
    {
      "cell_type": "markdown",
      "metadata": {
        "id": "view-in-github",
        "colab_type": "text"
      },
      "source": [
        "<a href=\"https://colab.research.google.com/github/Hsieh121/generative_ai/blob/main/HW2.ipynb\" target=\"_parent\"><img src=\"https://colab.research.google.com/assets/colab-badge.svg\" alt=\"Open In Colab\"/></a>"
      ]
    },
    {
      "cell_type": "markdown",
      "source": [
        "# 安裝gradio"
      ],
      "metadata": {
        "id": "Xx2HYjr8bfMb"
      }
    },
    {
      "cell_type": "code",
      "execution_count": 23,
      "metadata": {
        "colab": {
          "base_uri": "https://localhost:8080/"
        },
        "id": "7N1lyxO0GQed",
        "outputId": "71ceb76a-473b-4fb9-89c2-de83078dd99b"
      },
      "outputs": [
        {
          "output_type": "stream",
          "name": "stdout",
          "text": [
            "Requirement already satisfied: gradio in /usr/local/lib/python3.11/dist-packages (5.20.1)\n",
            "Requirement already satisfied: aiofiles<24.0,>=22.0 in /usr/local/lib/python3.11/dist-packages (from gradio) (23.2.1)\n",
            "Requirement already satisfied: anyio<5.0,>=3.0 in /usr/local/lib/python3.11/dist-packages (from gradio) (3.7.1)\n",
            "Requirement already satisfied: fastapi<1.0,>=0.115.2 in /usr/local/lib/python3.11/dist-packages (from gradio) (0.115.11)\n",
            "Requirement already satisfied: ffmpy in /usr/local/lib/python3.11/dist-packages (from gradio) (0.5.0)\n",
            "Requirement already satisfied: gradio-client==1.7.2 in /usr/local/lib/python3.11/dist-packages (from gradio) (1.7.2)\n",
            "Requirement already satisfied: groovy~=0.1 in /usr/local/lib/python3.11/dist-packages (from gradio) (0.1.2)\n",
            "Requirement already satisfied: httpx>=0.24.1 in /usr/local/lib/python3.11/dist-packages (from gradio) (0.28.1)\n",
            "Requirement already satisfied: huggingface-hub>=0.28.1 in /usr/local/lib/python3.11/dist-packages (from gradio) (0.28.1)\n",
            "Requirement already satisfied: jinja2<4.0 in /usr/local/lib/python3.11/dist-packages (from gradio) (3.1.5)\n",
            "Requirement already satisfied: markupsafe~=2.0 in /usr/local/lib/python3.11/dist-packages (from gradio) (2.1.5)\n",
            "Requirement already satisfied: numpy<3.0,>=1.0 in /usr/local/lib/python3.11/dist-packages (from gradio) (1.26.4)\n",
            "Requirement already satisfied: orjson~=3.0 in /usr/local/lib/python3.11/dist-packages (from gradio) (3.10.15)\n",
            "Requirement already satisfied: packaging in /usr/local/lib/python3.11/dist-packages (from gradio) (24.2)\n",
            "Requirement already satisfied: pandas<3.0,>=1.0 in /usr/local/lib/python3.11/dist-packages (from gradio) (2.2.2)\n",
            "Requirement already satisfied: pillow<12.0,>=8.0 in /usr/local/lib/python3.11/dist-packages (from gradio) (11.1.0)\n",
            "Requirement already satisfied: pydantic>=2.0 in /usr/local/lib/python3.11/dist-packages (from gradio) (2.10.6)\n",
            "Requirement already satisfied: pydub in /usr/local/lib/python3.11/dist-packages (from gradio) (0.25.1)\n",
            "Requirement already satisfied: python-multipart>=0.0.18 in /usr/local/lib/python3.11/dist-packages (from gradio) (0.0.20)\n",
            "Requirement already satisfied: pyyaml<7.0,>=5.0 in /usr/local/lib/python3.11/dist-packages (from gradio) (6.0.2)\n",
            "Requirement already satisfied: ruff>=0.9.3 in /usr/local/lib/python3.11/dist-packages (from gradio) (0.9.10)\n",
            "Requirement already satisfied: safehttpx<0.2.0,>=0.1.6 in /usr/local/lib/python3.11/dist-packages (from gradio) (0.1.6)\n",
            "Requirement already satisfied: semantic-version~=2.0 in /usr/local/lib/python3.11/dist-packages (from gradio) (2.10.0)\n",
            "Requirement already satisfied: starlette<1.0,>=0.40.0 in /usr/local/lib/python3.11/dist-packages (from gradio) (0.46.0)\n",
            "Requirement already satisfied: tomlkit<0.14.0,>=0.12.0 in /usr/local/lib/python3.11/dist-packages (from gradio) (0.13.2)\n",
            "Requirement already satisfied: typer<1.0,>=0.12 in /usr/local/lib/python3.11/dist-packages (from gradio) (0.15.2)\n",
            "Requirement already satisfied: typing-extensions~=4.0 in /usr/local/lib/python3.11/dist-packages (from gradio) (4.12.2)\n",
            "Requirement already satisfied: uvicorn>=0.14.0 in /usr/local/lib/python3.11/dist-packages (from gradio) (0.34.0)\n",
            "Requirement already satisfied: fsspec in /usr/local/lib/python3.11/dist-packages (from gradio-client==1.7.2->gradio) (2024.10.0)\n",
            "Requirement already satisfied: websockets<16.0,>=10.0 in /usr/local/lib/python3.11/dist-packages (from gradio-client==1.7.2->gradio) (14.2)\n",
            "Requirement already satisfied: idna>=2.8 in /usr/local/lib/python3.11/dist-packages (from anyio<5.0,>=3.0->gradio) (3.10)\n",
            "Requirement already satisfied: sniffio>=1.1 in /usr/local/lib/python3.11/dist-packages (from anyio<5.0,>=3.0->gradio) (1.3.1)\n",
            "Requirement already satisfied: certifi in /usr/local/lib/python3.11/dist-packages (from httpx>=0.24.1->gradio) (2025.1.31)\n",
            "Requirement already satisfied: httpcore==1.* in /usr/local/lib/python3.11/dist-packages (from httpx>=0.24.1->gradio) (1.0.7)\n",
            "Requirement already satisfied: h11<0.15,>=0.13 in /usr/local/lib/python3.11/dist-packages (from httpcore==1.*->httpx>=0.24.1->gradio) (0.14.0)\n",
            "Requirement already satisfied: filelock in /usr/local/lib/python3.11/dist-packages (from huggingface-hub>=0.28.1->gradio) (3.17.0)\n",
            "Requirement already satisfied: requests in /usr/local/lib/python3.11/dist-packages (from huggingface-hub>=0.28.1->gradio) (2.32.3)\n",
            "Requirement already satisfied: tqdm>=4.42.1 in /usr/local/lib/python3.11/dist-packages (from huggingface-hub>=0.28.1->gradio) (4.67.1)\n",
            "Requirement already satisfied: python-dateutil>=2.8.2 in /usr/local/lib/python3.11/dist-packages (from pandas<3.0,>=1.0->gradio) (2.8.2)\n",
            "Requirement already satisfied: pytz>=2020.1 in /usr/local/lib/python3.11/dist-packages (from pandas<3.0,>=1.0->gradio) (2025.1)\n",
            "Requirement already satisfied: tzdata>=2022.7 in /usr/local/lib/python3.11/dist-packages (from pandas<3.0,>=1.0->gradio) (2025.1)\n",
            "Requirement already satisfied: annotated-types>=0.6.0 in /usr/local/lib/python3.11/dist-packages (from pydantic>=2.0->gradio) (0.7.0)\n",
            "Requirement already satisfied: pydantic-core==2.27.2 in /usr/local/lib/python3.11/dist-packages (from pydantic>=2.0->gradio) (2.27.2)\n",
            "Requirement already satisfied: click>=8.0.0 in /usr/local/lib/python3.11/dist-packages (from typer<1.0,>=0.12->gradio) (8.1.8)\n",
            "Requirement already satisfied: shellingham>=1.3.0 in /usr/local/lib/python3.11/dist-packages (from typer<1.0,>=0.12->gradio) (1.5.4)\n",
            "Requirement already satisfied: rich>=10.11.0 in /usr/local/lib/python3.11/dist-packages (from typer<1.0,>=0.12->gradio) (13.9.4)\n",
            "Requirement already satisfied: six>=1.5 in /usr/local/lib/python3.11/dist-packages (from python-dateutil>=2.8.2->pandas<3.0,>=1.0->gradio) (1.17.0)\n",
            "Requirement already satisfied: markdown-it-py>=2.2.0 in /usr/local/lib/python3.11/dist-packages (from rich>=10.11.0->typer<1.0,>=0.12->gradio) (3.0.0)\n",
            "Requirement already satisfied: pygments<3.0.0,>=2.13.0 in /usr/local/lib/python3.11/dist-packages (from rich>=10.11.0->typer<1.0,>=0.12->gradio) (2.18.0)\n",
            "Requirement already satisfied: charset-normalizer<4,>=2 in /usr/local/lib/python3.11/dist-packages (from requests->huggingface-hub>=0.28.1->gradio) (3.4.1)\n",
            "Requirement already satisfied: urllib3<3,>=1.21.1 in /usr/local/lib/python3.11/dist-packages (from requests->huggingface-hub>=0.28.1->gradio) (2.3.0)\n",
            "Requirement already satisfied: mdurl~=0.1 in /usr/local/lib/python3.11/dist-packages (from markdown-it-py>=2.2.0->rich>=10.11.0->typer<1.0,>=0.12->gradio) (0.1.2)\n"
          ]
        }
      ],
      "source": [
        "!pip install gradio"
      ]
    },
    {
      "cell_type": "markdown",
      "source": [
        "# 引用需要的套件"
      ],
      "metadata": {
        "id": "Eri6wAh_bt5R"
      }
    },
    {
      "cell_type": "code",
      "source": [
        "%matplotlib inline\n",
        "\n",
        "# 標準數據分析、畫圖套件\n",
        "import numpy as np\n",
        "import matplotlib.pyplot as plt\n",
        "from PIL import Image\n",
        "\n",
        "# 神經網路方面\n",
        "import tensorflow as tf\n",
        "from tensorflow.keras.datasets import mnist\n",
        "from tensorflow.keras.utils import to_categorical\n",
        "from tensorflow.keras.models import Sequential\n",
        "from tensorflow.keras.layers import Dense\n",
        "from tensorflow.keras.optimizers import SGD\n",
        "\n",
        "# 互動設計用\n",
        "from ipywidgets import interact_manual\n",
        "\n",
        "# 神速打造 web app 的 Gradio\n",
        "import gradio as gr"
      ],
      "metadata": {
        "id": "-luXDnbiGdF9"
      },
      "execution_count": 24,
      "outputs": []
    },
    {
      "cell_type": "markdown",
      "source": [
        "# 載入資料並處理資料"
      ],
      "metadata": {
        "id": "8UirK27kb2OG"
      }
    },
    {
      "cell_type": "code",
      "source": [
        "(x_train, y_train), (x_test, y_test) = mnist.load_data() #從minist讀入資料\n",
        "\n",
        "#Flatten影像，把28×28的影像展平成784維的向量，並把資料縮到0~1\n",
        "x_train = x_train.reshape(60000, 784)/255\n",
        "x_test = x_test.reshape(10000, 784)/255\n",
        "\n",
        "#0~9有10種可能，把輸出變成向量\n",
        "y_train = to_categorical(y_train, 10)\n",
        "y_test = to_categorical(y_test, 10)"
      ],
      "metadata": {
        "id": "Gj2v4KRAGflL"
      },
      "execution_count": 25,
      "outputs": []
    },
    {
      "cell_type": "code",
      "source": [
        "model = Sequential()\n",
        "\n",
        "#各層神經元數量\n",
        "N1 = 16\n",
        "N2 = 32\n",
        "N3 = 64\n",
        "N4 = 128\n",
        "\n",
        "\n",
        "model.add(Dense(N1, input_dim=784, activation='relu'))  #輸入層\n",
        "model.add(Dense(N2, activation='relu'))                 #第二層\n",
        "model.add(Dense(N3, activation='relu'))                 #第三層\n",
        "model.add(Dense(N4, activation='relu'))                 #第四層\n",
        "model.add(Dense(10, activation='softmax'))              #輸出層\n",
        "\n",
        "#選擇adam作為優化器，損失函數選擇分類問題較適合的categorical_crossentropy，並加入['accuracy']以便檢視精確度\n",
        "model.compile(optimizer='adam',\n",
        "              loss='categorical_crossentropy',\n",
        "              metrics=['accuracy'])\n",
        "\n",
        "model.summary() #檢視模型\n",
        "\n",
        "model.fit(x_train, y_train, batch_size=100, epochs=10) #訓練"
      ],
      "metadata": {
        "colab": {
          "base_uri": "https://localhost:8080/",
          "height": 646
        },
        "id": "6Qg-fHzbGzdl",
        "outputId": "d6015cc4-0a94-4dc6-f0c1-68a48d8fa7ec"
      },
      "execution_count": 26,
      "outputs": [
        {
          "output_type": "display_data",
          "data": {
            "text/plain": [
              "\u001b[1mModel: \"sequential_3\"\u001b[0m\n"
            ],
            "text/html": [
              "<pre style=\"white-space:pre;overflow-x:auto;line-height:normal;font-family:Menlo,'DejaVu Sans Mono',consolas,'Courier New',monospace\"><span style=\"font-weight: bold\">Model: \"sequential_3\"</span>\n",
              "</pre>\n"
            ]
          },
          "metadata": {}
        },
        {
          "output_type": "display_data",
          "data": {
            "text/plain": [
              "┏━━━━━━━━━━━━━━━━━━━━━━━━━━━━━━━━━━━━━━┳━━━━━━━━━━━━━━━━━━━━━━━━━━━━━┳━━━━━━━━━━━━━━━━━┓\n",
              "┃\u001b[1m \u001b[0m\u001b[1mLayer (type)                        \u001b[0m\u001b[1m \u001b[0m┃\u001b[1m \u001b[0m\u001b[1mOutput Shape               \u001b[0m\u001b[1m \u001b[0m┃\u001b[1m \u001b[0m\u001b[1m        Param #\u001b[0m\u001b[1m \u001b[0m┃\n",
              "┡━━━━━━━━━━━━━━━━━━━━━━━━━━━━━━━━━━━━━━╇━━━━━━━━━━━━━━━━━━━━━━━━━━━━━╇━━━━━━━━━━━━━━━━━┩\n",
              "│ dense_15 (\u001b[38;5;33mDense\u001b[0m)                     │ (\u001b[38;5;45mNone\u001b[0m, \u001b[38;5;34m16\u001b[0m)                  │          \u001b[38;5;34m12,560\u001b[0m │\n",
              "├──────────────────────────────────────┼─────────────────────────────┼─────────────────┤\n",
              "│ dense_16 (\u001b[38;5;33mDense\u001b[0m)                     │ (\u001b[38;5;45mNone\u001b[0m, \u001b[38;5;34m32\u001b[0m)                  │             \u001b[38;5;34m544\u001b[0m │\n",
              "├──────────────────────────────────────┼─────────────────────────────┼─────────────────┤\n",
              "│ dense_17 (\u001b[38;5;33mDense\u001b[0m)                     │ (\u001b[38;5;45mNone\u001b[0m, \u001b[38;5;34m64\u001b[0m)                  │           \u001b[38;5;34m2,112\u001b[0m │\n",
              "├──────────────────────────────────────┼─────────────────────────────┼─────────────────┤\n",
              "│ dense_18 (\u001b[38;5;33mDense\u001b[0m)                     │ (\u001b[38;5;45mNone\u001b[0m, \u001b[38;5;34m128\u001b[0m)                 │           \u001b[38;5;34m8,320\u001b[0m │\n",
              "├──────────────────────────────────────┼─────────────────────────────┼─────────────────┤\n",
              "│ dense_19 (\u001b[38;5;33mDense\u001b[0m)                     │ (\u001b[38;5;45mNone\u001b[0m, \u001b[38;5;34m10\u001b[0m)                  │           \u001b[38;5;34m1,290\u001b[0m │\n",
              "└──────────────────────────────────────┴─────────────────────────────┴─────────────────┘\n"
            ],
            "text/html": [
              "<pre style=\"white-space:pre;overflow-x:auto;line-height:normal;font-family:Menlo,'DejaVu Sans Mono',consolas,'Courier New',monospace\">┏━━━━━━━━━━━━━━━━━━━━━━━━━━━━━━━━━━━━━━┳━━━━━━━━━━━━━━━━━━━━━━━━━━━━━┳━━━━━━━━━━━━━━━━━┓\n",
              "┃<span style=\"font-weight: bold\"> Layer (type)                         </span>┃<span style=\"font-weight: bold\"> Output Shape                </span>┃<span style=\"font-weight: bold\">         Param # </span>┃\n",
              "┡━━━━━━━━━━━━━━━━━━━━━━━━━━━━━━━━━━━━━━╇━━━━━━━━━━━━━━━━━━━━━━━━━━━━━╇━━━━━━━━━━━━━━━━━┩\n",
              "│ dense_15 (<span style=\"color: #0087ff; text-decoration-color: #0087ff\">Dense</span>)                     │ (<span style=\"color: #00d7ff; text-decoration-color: #00d7ff\">None</span>, <span style=\"color: #00af00; text-decoration-color: #00af00\">16</span>)                  │          <span style=\"color: #00af00; text-decoration-color: #00af00\">12,560</span> │\n",
              "├──────────────────────────────────────┼─────────────────────────────┼─────────────────┤\n",
              "│ dense_16 (<span style=\"color: #0087ff; text-decoration-color: #0087ff\">Dense</span>)                     │ (<span style=\"color: #00d7ff; text-decoration-color: #00d7ff\">None</span>, <span style=\"color: #00af00; text-decoration-color: #00af00\">32</span>)                  │             <span style=\"color: #00af00; text-decoration-color: #00af00\">544</span> │\n",
              "├──────────────────────────────────────┼─────────────────────────────┼─────────────────┤\n",
              "│ dense_17 (<span style=\"color: #0087ff; text-decoration-color: #0087ff\">Dense</span>)                     │ (<span style=\"color: #00d7ff; text-decoration-color: #00d7ff\">None</span>, <span style=\"color: #00af00; text-decoration-color: #00af00\">64</span>)                  │           <span style=\"color: #00af00; text-decoration-color: #00af00\">2,112</span> │\n",
              "├──────────────────────────────────────┼─────────────────────────────┼─────────────────┤\n",
              "│ dense_18 (<span style=\"color: #0087ff; text-decoration-color: #0087ff\">Dense</span>)                     │ (<span style=\"color: #00d7ff; text-decoration-color: #00d7ff\">None</span>, <span style=\"color: #00af00; text-decoration-color: #00af00\">128</span>)                 │           <span style=\"color: #00af00; text-decoration-color: #00af00\">8,320</span> │\n",
              "├──────────────────────────────────────┼─────────────────────────────┼─────────────────┤\n",
              "│ dense_19 (<span style=\"color: #0087ff; text-decoration-color: #0087ff\">Dense</span>)                     │ (<span style=\"color: #00d7ff; text-decoration-color: #00d7ff\">None</span>, <span style=\"color: #00af00; text-decoration-color: #00af00\">10</span>)                  │           <span style=\"color: #00af00; text-decoration-color: #00af00\">1,290</span> │\n",
              "└──────────────────────────────────────┴─────────────────────────────┴─────────────────┘\n",
              "</pre>\n"
            ]
          },
          "metadata": {}
        },
        {
          "output_type": "display_data",
          "data": {
            "text/plain": [
              "\u001b[1m Total params: \u001b[0m\u001b[38;5;34m24,826\u001b[0m (96.98 KB)\n"
            ],
            "text/html": [
              "<pre style=\"white-space:pre;overflow-x:auto;line-height:normal;font-family:Menlo,'DejaVu Sans Mono',consolas,'Courier New',monospace\"><span style=\"font-weight: bold\"> Total params: </span><span style=\"color: #00af00; text-decoration-color: #00af00\">24,826</span> (96.98 KB)\n",
              "</pre>\n"
            ]
          },
          "metadata": {}
        },
        {
          "output_type": "display_data",
          "data": {
            "text/plain": [
              "\u001b[1m Trainable params: \u001b[0m\u001b[38;5;34m24,826\u001b[0m (96.98 KB)\n"
            ],
            "text/html": [
              "<pre style=\"white-space:pre;overflow-x:auto;line-height:normal;font-family:Menlo,'DejaVu Sans Mono',consolas,'Courier New',monospace\"><span style=\"font-weight: bold\"> Trainable params: </span><span style=\"color: #00af00; text-decoration-color: #00af00\">24,826</span> (96.98 KB)\n",
              "</pre>\n"
            ]
          },
          "metadata": {}
        },
        {
          "output_type": "display_data",
          "data": {
            "text/plain": [
              "\u001b[1m Non-trainable params: \u001b[0m\u001b[38;5;34m0\u001b[0m (0.00 B)\n"
            ],
            "text/html": [
              "<pre style=\"white-space:pre;overflow-x:auto;line-height:normal;font-family:Menlo,'DejaVu Sans Mono',consolas,'Courier New',monospace\"><span style=\"font-weight: bold\"> Non-trainable params: </span><span style=\"color: #00af00; text-decoration-color: #00af00\">0</span> (0.00 B)\n",
              "</pre>\n"
            ]
          },
          "metadata": {}
        },
        {
          "output_type": "stream",
          "name": "stdout",
          "text": [
            "Epoch 1/10\n",
            "\u001b[1m600/600\u001b[0m \u001b[32m━━━━━━━━━━━━━━━━━━━━\u001b[0m\u001b[37m\u001b[0m \u001b[1m7s\u001b[0m 5ms/step - accuracy: 0.7321 - loss: 0.8223\n",
            "Epoch 2/10\n",
            "\u001b[1m600/600\u001b[0m \u001b[32m━━━━━━━━━━━━━━━━━━━━\u001b[0m\u001b[37m\u001b[0m \u001b[1m4s\u001b[0m 5ms/step - accuracy: 0.9289 - loss: 0.2338\n",
            "Epoch 3/10\n",
            "\u001b[1m600/600\u001b[0m \u001b[32m━━━━━━━━━━━━━━━━━━━━\u001b[0m\u001b[37m\u001b[0m \u001b[1m3s\u001b[0m 2ms/step - accuracy: 0.9456 - loss: 0.1837\n",
            "Epoch 4/10\n",
            "\u001b[1m600/600\u001b[0m \u001b[32m━━━━━━━━━━━━━━━━━━━━\u001b[0m\u001b[37m\u001b[0m \u001b[1m3s\u001b[0m 2ms/step - accuracy: 0.9533 - loss: 0.1564\n",
            "Epoch 5/10\n",
            "\u001b[1m600/600\u001b[0m \u001b[32m━━━━━━━━━━━━━━━━━━━━\u001b[0m\u001b[37m\u001b[0m \u001b[1m3s\u001b[0m 3ms/step - accuracy: 0.9582 - loss: 0.1373\n",
            "Epoch 6/10\n",
            "\u001b[1m600/600\u001b[0m \u001b[32m━━━━━━━━━━━━━━━━━━━━\u001b[0m\u001b[37m\u001b[0m \u001b[1m3s\u001b[0m 3ms/step - accuracy: 0.9607 - loss: 0.1285\n",
            "Epoch 7/10\n",
            "\u001b[1m600/600\u001b[0m \u001b[32m━━━━━━━━━━━━━━━━━━━━\u001b[0m\u001b[37m\u001b[0m \u001b[1m2s\u001b[0m 2ms/step - accuracy: 0.9629 - loss: 0.1184\n",
            "Epoch 8/10\n",
            "\u001b[1m600/600\u001b[0m \u001b[32m━━━━━━━━━━━━━━━━━━━━\u001b[0m\u001b[37m\u001b[0m \u001b[1m3s\u001b[0m 2ms/step - accuracy: 0.9675 - loss: 0.1057\n",
            "Epoch 9/10\n",
            "\u001b[1m600/600\u001b[0m \u001b[32m━━━━━━━━━━━━━━━━━━━━\u001b[0m\u001b[37m\u001b[0m \u001b[1m1s\u001b[0m 2ms/step - accuracy: 0.9678 - loss: 0.1002\n",
            "Epoch 10/10\n",
            "\u001b[1m600/600\u001b[0m \u001b[32m━━━━━━━━━━━━━━━━━━━━\u001b[0m\u001b[37m\u001b[0m \u001b[1m3s\u001b[0m 3ms/step - accuracy: 0.9699 - loss: 0.0957\n"
          ]
        },
        {
          "output_type": "execute_result",
          "data": {
            "text/plain": [
              "<keras.src.callbacks.history.History at 0x7add17b7ca90>"
            ]
          },
          "metadata": {},
          "execution_count": 26
        }
      ]
    },
    {
      "cell_type": "code",
      "source": [
        "predict = np.argmax(model.predict(x_test), axis=-1)  #把機率最大的輸出取出最為答案\n",
        "\n",
        "def test(測試編號):\n",
        "    plt.imshow(x_test[測試編號].reshape(28,28), cmap='Greys') #印出圖\n",
        "    print('神經網路判斷為:', predict[測試編號]) #印出預測結果\n",
        "\n",
        "#可查詢各筆資料預測結果\n",
        "interact_manual(test, 測試編號=(0, 9999));\n",
        "\n",
        "#檢視訓練結果\n",
        "score = model.evaluate(x_test, y_test)\n",
        "print('loss:', score[0])\n",
        "print('正確率', score[1])"
      ],
      "metadata": {
        "colab": {
          "base_uri": "https://localhost:8080/",
          "height": 579,
          "referenced_widgets": [
            "0def920924c64cd3abc5ebaac077f208",
            "9919b1b9ba9c4e4fad04f04d62ae90f4",
            "0189a55a8ca54d7389fc46050d0b633e",
            "40a3d7a229bd42b5838d7bd60d197e21",
            "6feb0cdcb18a4cb8a241f0850b0080a0",
            "4c79e6868ee641eea0bde520c210b4b4",
            "ef42e856746646feb7741b0e16c7138f",
            "8f4d00c53d674acc99d8e2f2d2239a65",
            "479ffa704f3243748201e6315ea92485",
            "4cefdeb2f168426181182304735f77fd"
          ]
        },
        "id": "Uz0J6yu5Jhg3",
        "outputId": "ea6ff58f-b9b5-4fbd-9e87-e62615f6e605"
      },
      "execution_count": 27,
      "outputs": [
        {
          "output_type": "stream",
          "name": "stdout",
          "text": [
            "\u001b[1m313/313\u001b[0m \u001b[32m━━━━━━━━━━━━━━━━━━━━\u001b[0m\u001b[37m\u001b[0m \u001b[1m1s\u001b[0m 3ms/step\n"
          ]
        },
        {
          "output_type": "display_data",
          "data": {
            "text/plain": [
              "interactive(children=(IntSlider(value=4999, description='測試編號', max=9999), Button(description='Run Interact', …"
            ],
            "application/vnd.jupyter.widget-view+json": {
              "version_major": 2,
              "version_minor": 0,
              "model_id": "0def920924c64cd3abc5ebaac077f208"
            }
          },
          "metadata": {}
        },
        {
          "output_type": "stream",
          "name": "stdout",
          "text": [
            "\u001b[1m313/313\u001b[0m \u001b[32m━━━━━━━━━━━━━━━━━━━━\u001b[0m\u001b[37m\u001b[0m \u001b[1m2s\u001b[0m 5ms/step - accuracy: 0.9519 - loss: 0.1480\n",
            "loss: 0.13649718463420868\n",
            "正確率 0.9581999778747559\n"
          ]
        }
      ]
    },
    {
      "cell_type": "code",
      "source": [
        "def resize_image(inp):\n",
        "    # 圖在 inp[\"layers\"][0]\n",
        "    image = np.array(inp[\"layers\"][0], dtype=np.float32)\n",
        "    image = image.astype(np.uint8)\n",
        "\n",
        "    # 轉成 PIL 格式\n",
        "    image_pil = Image.fromarray(image)\n",
        "\n",
        "    # Alpha 通道設為白色, 再把圖從 RGBA 轉成 RGB\n",
        "    background = Image.new(\"RGB\", image_pil.size, (255, 255, 255))\n",
        "    background.paste(image_pil, mask=image_pil.split()[3]) # 把圖片粘貼到白色背景上，使用透明通道作為遮罩\n",
        "    image_pil = background\n",
        "\n",
        "    # 轉換為灰階圖像\n",
        "    image_gray = image_pil.convert(\"L\")\n",
        "\n",
        "    # 將灰階圖像縮放到 28x28, 轉回 numpy array\n",
        "    img_array = np.array(image_gray.resize((28, 28), resample=Image.LANCZOS))\n",
        "\n",
        "    # 配合 MNIST 數據集\n",
        "    img_array = 255 - img_array\n",
        "\n",
        "    # 拉平並縮放\n",
        "    img_array = img_array.reshape(1, 784) / 255.0\n",
        "\n",
        "    return img_array"
      ],
      "metadata": {
        "id": "pbUDXqb6KM6D"
      },
      "execution_count": 28,
      "outputs": []
    },
    {
      "cell_type": "code",
      "source": [
        "def recognize_digit(inp):\n",
        "    img_array = resize_image(inp)\n",
        "    prediction = model.predict(img_array).flatten()\n",
        "    labels = list('0123456789')\n",
        "    return {labels[i]: float(prediction[i]) for i in range(10)}"
      ],
      "metadata": {
        "id": "BNsULd87KPZr"
      },
      "execution_count": 29,
      "outputs": []
    },
    {
      "cell_type": "code",
      "source": [
        "iface = gr.Interface(\n",
        "    fn=recognize_digit,\n",
        "    inputs=gr.Sketchpad(),\n",
        "    outputs=gr.Label(num_top_classes=3),\n",
        "    title=\"MNIST 手寫辨識\",\n",
        "    description=\"請在畫板上繪製數字\"\n",
        ")\n",
        "\n",
        "iface.launch(share=True, debug=True)"
      ],
      "metadata": {
        "colab": {
          "base_uri": "https://localhost:8080/",
          "height": 694
        },
        "id": "QGff9kFQKRKl",
        "outputId": "49d3aaa2-8646-4967-999c-012c30072992"
      },
      "execution_count": 30,
      "outputs": [
        {
          "output_type": "stream",
          "name": "stdout",
          "text": [
            "Colab notebook detected. This cell will run indefinitely so that you can see errors and logs. To turn off, set debug=False in launch().\n",
            "* Running on public URL: https://0500158ae1468c7622.gradio.live\n",
            "\n",
            "This share link expires in 72 hours. For free permanent hosting and GPU upgrades, run `gradio deploy` from the terminal in the working directory to deploy to Hugging Face Spaces (https://huggingface.co/spaces)\n"
          ]
        },
        {
          "output_type": "display_data",
          "data": {
            "text/plain": [
              "<IPython.core.display.HTML object>"
            ],
            "text/html": [
              "<div><iframe src=\"https://0500158ae1468c7622.gradio.live\" width=\"100%\" height=\"500\" allow=\"autoplay; camera; microphone; clipboard-read; clipboard-write;\" frameborder=\"0\" allowfullscreen></iframe></div>"
            ]
          },
          "metadata": {}
        },
        {
          "output_type": "stream",
          "name": "stdout",
          "text": [
            "\u001b[1m1/1\u001b[0m \u001b[32m━━━━━━━━━━━━━━━━━━━━\u001b[0m\u001b[37m\u001b[0m \u001b[1m0s\u001b[0m 190ms/step\n",
            "\u001b[1m1/1\u001b[0m \u001b[32m━━━━━━━━━━━━━━━━━━━━\u001b[0m\u001b[37m\u001b[0m \u001b[1m0s\u001b[0m 29ms/step\n",
            "\u001b[1m1/1\u001b[0m \u001b[32m━━━━━━━━━━━━━━━━━━━━\u001b[0m\u001b[37m\u001b[0m \u001b[1m0s\u001b[0m 28ms/step\n",
            "Keyboard interruption in main thread... closing server.\n",
            "Killing tunnel 127.0.0.1:7860 <> https://0500158ae1468c7622.gradio.live\n"
          ]
        },
        {
          "output_type": "execute_result",
          "data": {
            "text/plain": []
          },
          "metadata": {},
          "execution_count": 30
        }
      ]
    }
  ]
}